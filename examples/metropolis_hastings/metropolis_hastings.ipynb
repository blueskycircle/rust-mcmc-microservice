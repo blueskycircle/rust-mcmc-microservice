{
 "cells": [
  {
   "cell_type": "markdown",
   "metadata": {},
   "source": [
    "# MCMC in Rust"
   ]
  },
  {
   "cell_type": "code",
   "execution_count": 2,
   "metadata": {
    "vscode": {
     "languageId": "rust"
    }
   },
   "outputs": [],
   "source": [
    "// Get dependacies: cargo add rand indicatif plotters\n",
    ":dep rand = \"0.8\"\n",
    ":dep rand_distr = \"0.4\"\n",
    ":dep indicatif = \"0.16\"\n",
    ":dep plotters = \"0.3\"\n",
    "\n",
    "extern crate rand;\n",
    "extern crate rand_distr;\n",
    "extern crate indicatif;\n",
    "extern crate plotters;\n",
    "\n",
    "use rand::Rng;\n",
    "use rand_distr::{Normal, Distribution};\n",
    "use indicatif::{ProgressBar, ProgressStyle};\n",
    "use std::time::Instant;\n",
    "use plotters::prelude::*;\n",
    "\n",
    "\n",
    "fn target_distribution(x: f64) -> f64 {\n",
    "    // Example target distribution: 1D standard normal distribution\n",
    "    (-0.5 * x.powi(2)).exp() / (2.0 * std::f64::consts::PI).sqrt()\n",
    "}\n",
    "\n",
    "fn proposal_distribution(x: f64) -> f64 {\n",
    "    // Example proposal distribution: normal distribution centered at x\n",
    "    let normal = Normal::new(x, 1.0).unwrap();\n",
    "    let mut rng = rand::thread_rng();\n",
    "    normal.sample(&mut rng)\n",
    "}\n",
    "\n",
    "fn metropolis_hastings(target: fn(f64) -> f64, proposal: fn(f64) -> f64, initial: f64, iterations: usize) -> (Vec<f64>, std::time::Duration, f64) {\n",
    "    let mut samples = Vec::new();\n",
    "    samples.push(initial);\n",
    "    let mut current = initial;\n",
    "    let mut accepted = 0;\n",
    "\n",
    "    let pb = ProgressBar::new(iterations as u64);\n",
    "    pb.set_style(ProgressStyle::default_bar()\n",
    "        .template(\"{spinner:.green} [{elapsed_precise}] [{bar:40.cyan/blue}] {pos}/{len} ({eta})\")\n",
    "        .progress_chars(\"#>-\"));\n",
    "\n",
    "    let start = Instant::now();\n",
    "\n",
    "    for _ in 0..iterations {\n",
    "        let proposed = proposal(current);\n",
    "        let acceptance_ratio = target(proposed) / target(current);\n",
    "\n",
    "        if rand::thread_rng().gen::<f64>() < acceptance_ratio {\n",
    "            current = proposed;\n",
    "            accepted += 1;\n",
    "        }\n",
    "\n",
    "        samples.push(current);\n",
    "        pb.inc(1);\n",
    "    }\n",
    "\n",
    "    pb.finish_with_message(\"Sampling complete\");\n",
    "\n",
    "    let duration = start.elapsed();\n",
    "    let acceptance_rate = accepted as f64 / iterations as f64;\n",
    "\n",
    "    (samples, duration, acceptance_rate)\n",
    "}\n"
   ]
  },
  {
   "cell_type": "code",
   "execution_count": 3,
   "metadata": {
    "vscode": {
     "languageId": "rust"
    }
   },
   "outputs": [],
   "source": [
    "// Parameters\n",
    "let initial_value = 0.0;\n",
    "let num_iterations = 100000;\n",
    "\n",
    "// Run MCMC sampler\n",
    "let (samples, duration, acceptance_rate) = metropolis_hastings(target_distribution, proposal_distribution, initial_value, num_iterations);\n"
   ]
  },
  {
   "cell_type": "code",
   "execution_count": 4,
   "metadata": {
    "vscode": {
     "languageId": "rust"
    }
   },
   "outputs": [
    {
     "name": "stdout",
     "output_type": "stream",
     "text": [
      "Time taken for MCMC sampling: 10.865ms\n",
      "Acceptance rate: 70.56%\n"
     ]
    }
   ],
   "source": [
    "// Print the time taken and acceptance rate\n",
    "println!(\"Time taken for MCMC sampling: {:?}\", duration);\n",
    "println!(\"Acceptance rate: {:.2}%\", acceptance_rate * 100.0);"
   ]
  },
  {
   "cell_type": "code",
   "execution_count": 5,
   "metadata": {
    "vscode": {
     "languageId": "rust"
    }
   },
   "outputs": [
    {
     "name": "stdout",
     "output_type": "stream",
     "text": [
      "Sample 1: 0\n",
      "Sample 2: -0.16597110362787534\n",
      "Sample 3: -0.16597110362787534\n",
      "Sample 4: 0.06342763525409217\n",
      "Sample 5: 0.06342763525409217\n",
      "Sample 6: 0.06342763525409217\n",
      "Sample 7: -0.7074691252872063\n",
      "Sample 8: -1.859835259617874\n",
      "Sample 9: -1.859835259617874\n",
      "Sample 10: -1.1883926896887416\n",
      "Sample 11: -1.548456885717123\n",
      "Sample 12: -1.548456885717123\n",
      "Sample 13: -1.2659870090843415\n",
      "Sample 14: -1.5832475085632494\n",
      "Sample 15: -1.5832475085632494\n",
      "Sample 16: -0.47226168363658205\n",
      "Sample 17: -0.04337283321834773\n",
      "Sample 18: -0.5982239722558584\n",
      "Sample 19: -0.5881898757948664\n",
      "Sample 20: -0.5881898757948664\n"
     ]
    },
    {
     "data": {
      "text/plain": [
       "()"
      ]
     },
     "execution_count": 5,
     "metadata": {},
     "output_type": "execute_result"
    }
   ],
   "source": [
    "// Print first 20 samples\n",
    "for (i, sample) in samples.iter().take(20).enumerate() {\n",
    "    println!(\"Sample {}: {}\", i + 1, sample);\n",
    "}"
   ]
  },
  {
   "cell_type": "code",
   "execution_count": null,
   "metadata": {
    "vscode": {
     "languageId": "rust"
    }
   },
   "outputs": [
    {
     "name": "stdout",
     "output_type": "stream",
     "text": [
      "Mean: -0.00791087849296739\n"
     ]
    }
   ],
   "source": [
    "fn mean(data: &[f64]) -> f64 {\n",
    "    let sum: f64 = data.iter().sum();\n",
    "    let count = data.len();\n",
    "    sum / count as f64\n",
    "}\n",
    "\n",
    "fn standard_deviation(data: &[f64]) -> f64 {\n",
    "    let mean_value = mean(data);\n",
    "    let variance: f64 = data.iter().map(|value| {\n",
    "        let diff = mean_value - *value;\n",
    "        diff * diff\n",
    "    }).sum::<f64>() / data.len() as f64;\n",
    "    variance.sqrt()\n",
    "}\n",
    "\n",
    "fn credible_interval(samples: &[f64], confidence_level: f64) -> (f64, f64) {\n",
    "    let mut sorted_samples = samples.to_vec();\n",
    "    sorted_samples.sort_by(|a, b| a.partial_cmp(b).unwrap());\n",
    "\n",
    "    let lower_index = ((1.0 - confidence_level) / 2.0 * sorted_samples.len() as f64).ceil() as usize;\n",
    "    let upper_index = ((1.0 + confidence_level) / 2.0 * sorted_samples.len() as f64).floor() as usize;\n",
    "\n",
    "    (sorted_samples[lower_index], sorted_samples[upper_index])\n",
    "}"
   ]
  },
  {
   "cell_type": "code",
   "execution_count": 8,
   "metadata": {
    "vscode": {
     "languageId": "rust"
    }
   },
   "outputs": [
    {
     "name": "stdout",
     "output_type": "stream",
     "text": [
      "Mean: -0.00791087849296739\n"
     ]
    },
    {
     "name": "stdout",
     "output_type": "stream",
     "text": [
      "Standard Deviation: 0.9974321878003785\n",
      "95% credible interval: (-1.9460975628441455, 1.9711140382719141)\n"
     ]
    }
   ],
   "source": [
    "// Calculate statistics\n",
    "let mean_value = mean(&samples);\n",
    "let sd_value = standard_deviation(&samples);\n",
    "let confidence_level = 0.95;\n",
    "let (lower_bound, upper_bound) = credible_interval(&samples, confidence_level);\n",
    "\n",
    "println!(\"Mean: {}\", mean_value);\n",
    "println!(\"Standard Deviation: {}\", sd_value);\n",
    "println!(\"{}% credible interval: ({}, {})\", confidence_level * 100.0, lower_bound, upper_bound);"
   ]
  },
  {
   "cell_type": "code",
   "execution_count": 9,
   "metadata": {
    "vscode": {
     "languageId": "rust"
    }
   },
   "outputs": [],
   "source": [
    "// Plot the trace of the samples\n",
    "fn plot_trace(samples: &[f64]) -> Result<(), Box<dyn std::error::Error>> {\n",
    "    let root = BitMapBackend::new(\"trace.png\", (800, 600)).into_drawing_area();\n",
    "    root.fill(&WHITE)?;\n",
    "\n",
    "    let mut chart = ChartBuilder::on(&root)\n",
    "        .caption(\"Trace plot of MCMC samples\", (\"sans-serif\", 50).into_font())\n",
    "        .margin(10)\n",
    "        .x_label_area_size(30)\n",
    "        .y_label_area_size(30)\n",
    "        .build_cartesian_2d(0..samples.len(), -5.0..5.0)?;\n",
    "\n",
    "    chart.configure_mesh().draw()?;\n",
    "\n",
    "    chart.draw_series(LineSeries::new(\n",
    "        samples.iter().enumerate().map(|(i, x)| (i, *x)),\n",
    "        &BLUE,\n",
    "    ))?;\n",
    "\n",
    "    Ok(())\n",
    "}\n",
    "\n",
    "// Plot the histogram of the samples\n",
    "fn plot_histogram(samples: &[f64], file_name: &str) -> Result<(), Box<dyn std::error::Error>> {\n",
    "    let root = BitMapBackend::new(file_name, (640, 480)).into_drawing_area();\n",
    "    root.fill(&WHITE)?;\n",
    "\n",
    "    // Calculate histogram bins\n",
    "    let n_bins = 50;\n",
    "    let min_val = samples.iter().fold(f64::INFINITY, |a, &b| a.min(b));\n",
    "    let max_val = samples.iter().fold(f64::NEG_INFINITY, |a, &b| a.max(b));\n",
    "    let bin_width = (max_val - min_val) / n_bins as f64;\n",
    "    \n",
    "    let mut bins = vec![0u32; n_bins];\n",
    "    for &value in samples {\n",
    "        let bin = ((value - min_val) / bin_width).floor() as usize;\n",
    "        if bin < n_bins {\n",
    "            bins[bin] += 1;\n",
    "        }\n",
    "    }\n",
    "\n",
    "    let max_count = *bins.iter().max().unwrap_or(&1) as f64;\n",
    "    let normalized_bins: Vec<(f64, f64)> = bins.iter().enumerate()\n",
    "        .map(|(i, &count)| {\n",
    "            let x = min_val + (i as f64 + 0.5) * bin_width;\n",
    "            let y = count as f64 / (samples.len() as f64 * bin_width);\n",
    "            (x, y)\n",
    "        })\n",
    "        .collect();\n",
    "\n",
    "    let mut chart = ChartBuilder::on(&root)\n",
    "        .caption(\"Histogram of Samples\", (\"sans-serif\", 30).into_font())\n",
    "        .margin(5)\n",
    "        .x_label_area_size(30)\n",
    "        .y_label_area_size(30)\n",
    "        .build_cartesian_2d(\n",
    "            min_val..max_val,\n",
    "            0f64..normalized_bins.iter().map(|(_,y)| *y).fold(0./0., f64::max) * 1.1\n",
    "        )?;\n",
    "\n",
    "    chart.configure_mesh().draw()?;\n",
    "\n",
    "    chart.draw_series(\n",
    "        normalized_bins.iter().map(|&(x, y)| {\n",
    "            Rectangle::new(\n",
    "                [(x - bin_width/2.0, 0.0), (x + bin_width/2.0, y)],\n",
    "                BLUE.filled(),\n",
    "            )\n",
    "        }),\n",
    "    )?;\n",
    "\n",
    "    Ok(())\n",
    "}\n",
    "\n",
    "// Plot the density of the samples\n",
    "fn plot_density(samples: &[f64], file_name: &str) -> Result<(), Box<dyn std::error::Error>> {\n",
    "    let root = BitMapBackend::new(file_name, (800, 600)).into_drawing_area();\n",
    "    root.fill(&WHITE)?;\n",
    "\n",
    "    // Calculate kernel density estimation\n",
    "    let n_points = 200;\n",
    "    let bandwidth = 0.2; // Adjust this parameter for smoothing\n",
    "    let min_val = samples.iter().fold(f64::INFINITY, |a, &b| a.min(b));\n",
    "    let max_val = samples.iter().fold(f64::NEG_INFINITY, |a, &b| a.max(b));\n",
    "    let range = max_val - min_val;\n",
    "    \n",
    "    let mut density_points: Vec<(f64, f64)> = Vec::with_capacity(n_points);\n",
    "    for i in 0..n_points {\n",
    "        let x = min_val + (i as f64 / n_points as f64) * range;\n",
    "        let density = samples.iter().fold(0.0, |sum, &sample| {\n",
    "            sum + (-0.5 * ((x - sample) / bandwidth).powi(2)).exp()\n",
    "        }) / (samples.len() as f64 * bandwidth * (2.0 * std::f64::consts::PI).sqrt());\n",
    "        density_points.push((x, density));\n",
    "    }\n",
    "\n",
    "    let max_density = density_points.iter().map(|(_, y)| *y).fold(0./0., f64::max);\n",
    "\n",
    "    let mut chart = ChartBuilder::on(&root)\n",
    "        .caption(\"Density Plot of Samples\", (\"sans-serif\", 30).into_font())\n",
    "        .margin(5)\n",
    "        .x_label_area_size(30)\n",
    "        .y_label_area_size(40)\n",
    "        .build_cartesian_2d(\n",
    "            min_val..max_val,\n",
    "            0f64..max_density * 1.1\n",
    "        )?;\n",
    "\n",
    "    chart.configure_mesh()\n",
    "        .x_desc(\"Value\")\n",
    "        .y_desc(\"Density\")\n",
    "        .draw()?;\n",
    "\n",
    "    // Draw the density curve\n",
    "    chart.draw_series(LineSeries::new(\n",
    "        density_points,\n",
    "        &BLUE,\n",
    "    ))?;\n",
    "\n",
    "    Ok(())\n",
    "}"
   ]
  },
  {
   "cell_type": "code",
   "execution_count": 10,
   "metadata": {
    "vscode": {
     "languageId": "rust"
    }
   },
   "outputs": [],
   "source": [
    "// Save samples to a file for plotting\n",
    "use std::fs::File;\n",
    "use std::io::Write;\n",
    "let mut file = File::create(\"samples.txt\").unwrap();\n",
    "for sample in &samples {\n",
    "    writeln!(file, \"{}\", sample).unwrap();\n",
    "}\n",
    "\n",
    "// Plot the results\n",
    "plot_trace(&samples).unwrap();\n",
    "plot_histogram(&samples, \"histogram.png\")?;\n",
    "plot_density(&samples, \"density_plot.png\")?;"
   ]
  },
  {
   "cell_type": "code",
   "execution_count": 15,
   "metadata": {
    "vscode": {
     "languageId": "rust"
    }
   },
   "outputs": [],
   "source": [
    "fn plot_time_taken(sample_sizes: &[usize], times: &[f64], file_name: &str) -> Result<(), Box<dyn std::error::Error>> {\n",
    "    let root = BitMapBackend::new(file_name, (800, 600)).into_drawing_area();\n",
    "    root.fill(&WHITE)?;\n",
    "\n",
    "    let mut chart = ChartBuilder::on(&root)\n",
    "        .caption(\"Time Taken for MCMC Sampling\", (\"sans-serif\", 30).into_font())\n",
    "        .margin(35)\n",
    "        .x_label_area_size(30)\n",
    "        .y_label_area_size(50)\n",
    "        .build_cartesian_2d(\n",
    "            0f64..*sample_sizes.last().unwrap() as f64,\n",
    "            0f64..*times.iter().max_by(|a, b| a.partial_cmp(b).unwrap()).unwrap() * 1.1\n",
    "        )?;\n",
    "\n",
    "        chart.configure_mesh()\n",
    "        .x_desc(\"Number of Samples\")\n",
    "        .y_desc(\"Time Taken (seconds)\")\n",
    "        .draw()?;\n",
    "\n",
    "    chart.draw_series(LineSeries::new(\n",
    "        sample_sizes.iter().zip(times.iter()).map(|(&x, &y)| (x as f64, y)),\n",
    "        &BLUE,\n",
    "    ))?\n",
    "    .label(\"Time Taken\")\n",
    "    .legend(|(x, y)| PathElement::new(vec![(x, y), (x + 20, y)], &BLUE));\n",
    "\n",
    "    chart.draw_series(\n",
    "        sample_sizes.iter().zip(times.iter()).map(|(&x, &y)| {\n",
    "            Cross::new((x as f64, y), 5, &RED)\n",
    "        })\n",
    "    )?;\n",
    "\n",
    "    chart.configure_series_labels().draw()?;\n",
    "\n",
    "    Ok(())\n",
    "}\n"
   ]
  },
  {
   "cell_type": "code",
   "execution_count": 16,
   "metadata": {
    "vscode": {
     "languageId": "rust"
    }
   },
   "outputs": [
    {
     "name": "stdout",
     "output_type": "stream",
     "text": [
      "Samples: 10000, Time taken: 999µs, Acceptance rate: 70.16%\n",
      "Samples: 20000, Time taken: 1.9621ms, Acceptance rate: 70.40%\n",
      "Samples: 50000, Time taken: 4.7667ms, Acceptance rate: 70.51%\n",
      "Samples: 100000, Time taken: 9.6997ms, Acceptance rate: 70.60%\n",
      "Samples: 200000, Time taken: 19.4163ms, Acceptance rate: 70.55%\n",
      "Samples: 250000, Time taken: 24.0724ms, Acceptance rate: 70.64%\n"
     ]
    }
   ],
   "source": [
    "// Parameters\n",
    "let initial_value = 0.0;\n",
    "let sample_sizes = vec![10000, 20000, 50000, 100000, 200000, 250000];\n",
    "let mut times = Vec::new();\n",
    "\n",
    "for &num_iterations in &sample_sizes {\n",
    "    let (_, duration, acceptance_rate) = metropolis_hastings(target_distribution, proposal_distribution, initial_value, num_iterations);;\n",
    "    times.push(duration.as_secs_f64());\n",
    "    println!(\"Samples: {}, Time taken: {:?}, Acceptance rate: {:.2}%\", num_iterations, duration, acceptance_rate * 100.0);\n",
    "}\n",
    "\n",
    "// Plot the time taken for different sample sizes\n",
    "plot_time_taken(&sample_sizes, &times, \"time_taken.png\").unwrap();"
   ]
  },
  {
   "cell_type": "code",
   "execution_count": 17,
   "metadata": {
    "vscode": {
     "languageId": "rust"
    }
   },
   "outputs": [
    {
     "name": "stdout",
     "output_type": "stream",
     "text": [
      "Samples: 10000000, Time taken: 973.8369ms, Acceptance rate: 70.46%\n",
      "Samples: 50000000, Time taken: 4.8246133s, Acceptance rate: 70.49%\n",
      "Samples: 100000000, Time taken: 9.7106757s, Acceptance rate: 70.48%\n",
      "Samples: 200000000, Time taken: 19.3779369s, Acceptance rate: 70.49%\n",
      "Samples: 500000000, Time taken: 48.2593459s, Acceptance rate: 70.48%\n",
      "Samples: 1000000000, Time taken: 96.2832143s, Acceptance rate: 70.48%\n"
     ]
    }
   ],
   "source": [
    "// Parameters\n",
    "let initial_value = 0.0;\n",
    "let sample_sizes = vec![10000000, 50000000, 100000000, 200000000, 500000000, 1000000000];\n",
    "let mut times = Vec::new();\n",
    "\n",
    "for &num_iterations in &sample_sizes {\n",
    "    let (_, duration, acceptance_rate) = metropolis_hastings(target_distribution, proposal_distribution, initial_value, num_iterations);;\n",
    "    times.push(duration.as_secs_f64());\n",
    "    println!(\"Samples: {}, Time taken: {:?}, Acceptance rate: {:.2}%\", num_iterations, duration, acceptance_rate * 100.0);\n",
    "}\n",
    "\n",
    "// Plot the time taken for different sample sizes\n",
    "plot_time_taken(&sample_sizes, &times, \"time_taken_2.png\").unwrap();"
   ]
  }
 ],
 "metadata": {
  "kernelspec": {
   "display_name": "Rust",
   "language": "rust",
   "name": "rust"
  },
  "language_info": {
   "codemirror_mode": "rust",
   "file_extension": ".rs",
   "mimetype": "text/rust",
   "name": "Rust",
   "pygment_lexer": "rust",
   "version": ""
  }
 },
 "nbformat": 4,
 "nbformat_minor": 2
}
